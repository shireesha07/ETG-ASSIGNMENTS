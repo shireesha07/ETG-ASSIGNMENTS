{
 "cells": [
  {
   "cell_type": "markdown",
   "id": "7a5a1e3a",
   "metadata": {},
   "source": [
    "read inventory"
   ]
  },
  {
   "cell_type": "code",
   "execution_count": 16,
   "id": "ecd3748f",
   "metadata": {},
   "outputs": [],
   "source": [
    "import json"
   ]
  },
  {
   "cell_type": "code",
   "execution_count": 17,
   "id": "d19c7a81",
   "metadata": {},
   "outputs": [],
   "source": [
    "fd=open(\"items.json\",'r')\n",
    "r=fd.read()\n",
    "fd.close()\n",
    "items = json.loads(r)"
   ]
  },
  {
   "cell_type": "code",
   "execution_count": 18,
   "id": "ab10c33e",
   "metadata": {},
   "outputs": [
    {
     "data": {
      "text/plain": [
       "{'101': {'name': 'drinks',\n",
       "  'price': '48',\n",
       "  'quantity': '30',\n",
       "  'discount': '10',\n",
       "  'expiry-date': '10-04-2023'},\n",
       " '102': {'name': 'chochalate',\n",
       "  'price': '10',\n",
       "  'quantity': '60',\n",
       "  'discount': '0',\n",
       "  'expiry-date': ' 17-09-2024'},\n",
       " '103': {'name': 'cake',\n",
       "  'price': '300',\n",
       "  'quantity': '30',\n",
       "  'discount': '10',\n",
       "  'expiry-date': '1day'},\n",
       " '104': {'name': 'biscuits',\n",
       "  'price': '50',\n",
       "  'quantity': '67',\n",
       "  'discount': '2',\n",
       "  'expiry-date': '10-12-2021'},\n",
       " '105': {'name': ' muffins',\n",
       "  'price': '40',\n",
       "  'quantity': '40',\n",
       "  'discount': '3',\n",
       "  'expiry-date': '10-09-2021'},\n",
       " '106': {'name': 'pizza',\n",
       "  'price': '100',\n",
       "  'quantity': '33',\n",
       "  'discount': '4',\n",
       "  'expiry-date': '1day'},\n",
       " '107': {'name': 'sweets',\n",
       "  'price': '250',\n",
       "  'quantity': '34',\n",
       "  'discount': '10',\n",
       "  'expiry-date': '12-04-2021'},\n",
       " '108': {'name': 'cookies',\n",
       "  'price': '100',\n",
       "  'quantity': '45',\n",
       "  'discount': '5',\n",
       "  'expiry-date': '10-08-2021'},\n",
       " '109': {'name': 'bread',\n",
       "  'price': '22',\n",
       "  'quantity': '30',\n",
       "  'discount': '4',\n",
       "  'expiry-date': '13-10-2023'},\n",
       " '110': {'name': 'veg puff',\n",
       "  'price': '25',\n",
       "  'quantity': '30',\n",
       "  'discount': '2',\n",
       "  'expiry-date': '12-02-2021'},\n",
       " '111': {'name': 'egg puff',\n",
       "  'price': '30',\n",
       "  'quantity': '30',\n",
       "  'discount': '10',\n",
       "  'expiry-date': '18-04-2021'},\n",
       " '112': {'name': 'ice-cream',\n",
       "  'price': '120',\n",
       "  'quantity': '45',\n",
       "  'discount': '15',\n",
       "  'expiry-date': '30-05-2021'},\n",
       " '113': {'name': 'chips',\n",
       "  'price': '20',\n",
       "  'quantity': '56',\n",
       "  'discount': '0',\n",
       "  'expiry-date': '12-04-2021'},\n",
       " '114': {'name': 'pastry',\n",
       "  'price': '45',\n",
       "  'quantity': '45',\n",
       "  'discount': '10',\n",
       "  'expiry-date': '10-05-2021'},\n",
       " '115': {'name': 'cupcakes',\n",
       "  'price': '30',\n",
       "  'quantity': '20',\n",
       "  'discount': '2',\n",
       "  'expiry-date': '15-08-2021'},\n",
       " '116': {'name': 'rusktoast',\n",
       "  'price': '60',\n",
       "  'quantity': '32',\n",
       "  'discount': '3',\n",
       "  'expiry-date': '09-02-2022'},\n",
       " '117': {'name': 'milk',\n",
       "  'price': '25',\n",
       "  'quantity': '30',\n",
       "  'discount': '10',\n",
       "  'expiry-date': '08-09-2021'},\n",
       " '118': {'name': 'papad',\n",
       "  'price': '30',\n",
       "  'quantity': '20',\n",
       "  'discount': '2',\n",
       "  'expiry-date': '10-4-2023'},\n",
       " '119': {'name': 'honey',\n",
       "  'price': '75',\n",
       "  'quantity': '40',\n",
       "  'discount': '10',\n",
       "  'expiry-date': '16-09-2023'},\n",
       " '120': {'name': 'paneer',\n",
       "  'price': '79',\n",
       "  'quantity': '43',\n",
       "  'discount': '4',\n",
       "  'expiry-date': '09-05-2021'},\n",
       " '121': {'name': 'dry-fruits',\n",
       "  'price': '250',\n",
       "  'quantity': '54',\n",
       "  'discount': '5',\n",
       "  'expiry-date': '08-10-2023'},\n",
       " '122': {'name': 'cheese',\n",
       "  'price': '78',\n",
       "  'quantity': '32',\n",
       "  'discount': '2',\n",
       "  'expiry-date': '14-06-2021'},\n",
       " '123': {'name': 'sandwich',\n",
       "  'price': '48',\n",
       "  'quantity': '30',\n",
       "  'discount': '2',\n",
       "  'expiry-date': '08-05-2021'},\n",
       " '124': {'name': 'maggi',\n",
       "  'price': '30',\n",
       "  'quantity': '30',\n",
       "  'discount': '3',\n",
       "  'expiry-date': '10-04-2022'},\n",
       " '125': {'name': 'spices',\n",
       "  'price': '89',\n",
       "  'quantity': '45',\n",
       "  'discount': '14',\n",
       "  'expiry-date': '15-06-2023'},\n",
       " '126': {'name': 'oil',\n",
       "  'price': '130',\n",
       "  'quantity': '67',\n",
       "  'discount': '10',\n",
       "  'expiry-date': '20-07-2023'},\n",
       " '127': {'name': 'salt',\n",
       "  'price': '15',\n",
       "  'quantity': '55',\n",
       "  'discount': '2',\n",
       "  'expiry-date': '25-06-2022'},\n",
       " '128': {'name': 'coffee',\n",
       "  'price': '45',\n",
       "  'quantity': '25',\n",
       "  'discount': '2',\n",
       "  'expiry-date': '02-05-2021'},\n",
       " '129': {'name': 'popcorn',\n",
       "  'price': '56',\n",
       "  'quantity': '30',\n",
       "  'discount': '6',\n",
       "  'expiry-date': '09-02-2021'},\n",
       " '130': {'name': 'soya-sauce',\n",
       "  'price': '50',\n",
       "  'quantity': '30',\n",
       "  'discount': '5',\n",
       "  'expiry-date': '19-06-2022'},\n",
       " '131': {'name': 'soaps',\n",
       "  'price': 60,\n",
       "  'quantity': 7,\n",
       "  'discount': 3,\n",
       "  'expiry_date': 9072024},\n",
       " '132': {'name': 'glucose',\n",
       "  'price': 40,\n",
       "  'quantity': 6,\n",
       "  'discount': 4,\n",
       "  'expiry_date': 6042024},\n",
       " '133': {'name': 'makeup kit',\n",
       "  'price': 1000,\n",
       "  'quantity': 2,\n",
       "  'discount': 10,\n",
       "  'expiry_date': 6072025},\n",
       " '134': {'name': 'peanuts',\n",
       "  'price': 260,\n",
       "  'quantity': 3,\n",
       "  'discount': 5,\n",
       "  'expiry_date': 6032022},\n",
       " '135': {'name': 'tablets',\n",
       "  'price': 40,\n",
       "  'quantity': 6,\n",
       "  'discount': 2,\n",
       "  'expiry_date': 8072022}}"
      ]
     },
     "execution_count": 18,
     "metadata": {},
     "output_type": "execute_result"
    }
   ],
   "source": [
    "items"
   ]
  },
  {
   "cell_type": "markdown",
   "id": "b1416d6b",
   "metadata": {},
   "source": [
    "purchase"
   ]
  },
  {
   "cell_type": "code",
   "execution_count": 107,
   "id": "8b6f5289",
   "metadata": {},
   "outputs": [
    {
     "name": "stdout",
     "output_type": "stream",
     "text": [
      "enter the product_id:106\n",
      "enter the quantity:7\n",
      "product name: pizza\n",
      "price: 100\n",
      "discount: 4\n",
      "discount_Amount: 4.0\n",
      "final_Amount: 96.0\n",
      "billing Amount: 672.0\n"
     ]
    }
   ],
   "source": [
    "ui_prod=str(input(\"enter the product_id:\"))\n",
    "ui_quant=int(input(\"enter the quantity:\"))             \n",
    "print(\"product name:\",items[ui_prod]['name'])   \n",
    "print(\"price:\",items[ui_prod]['price'])\n",
    "print(\"discount:\",items[ui_prod]['discount'])\n",
    "discount_Amount=int(items[ui_prod]['price'])*float(items[ui_prod]['discount'])/100\n",
    "print(\"discount_Amount:\",discount_Amount)\n",
    "final_Amount=int(items[ui_prod]['price'])-discount_Amount\n",
    "print(\"final_Amount:\",final_Amount)\n",
    "print(\"billing Amount:\",final_Amount*ui_quant)\n",
    "items[ui_prod]['quantity']=int(items[ui_prod]['quantity'])-ui_quant\n",
    "                    "
   ]
  },
  {
   "cell_type": "code",
   "execution_count": 48,
   "id": "84f4d35b",
   "metadata": {},
   "outputs": [
    {
     "data": {
      "text/plain": [
       "{'101': {'name': 'drinks',\n",
       "  'price': '48',\n",
       "  'quantity': '30',\n",
       "  'discount': '10',\n",
       "  'expiry-date': '10-04-2023'},\n",
       " '102': {'name': 'chochalate',\n",
       "  'price': '10',\n",
       "  'quantity': '60',\n",
       "  'discount': '0',\n",
       "  'expiry-date': ' 17-09-2024'},\n",
       " '103': {'name': 'cake',\n",
       "  'price': '300',\n",
       "  'quantity': '30',\n",
       "  'discount': '10',\n",
       "  'expiry-date': '1day'},\n",
       " '104': {'name': 'biscuits',\n",
       "  'price': '50',\n",
       "  'quantity': '67',\n",
       "  'discount': '2',\n",
       "  'expiry-date': '10-12-2021'},\n",
       " '105': {'name': ' muffins',\n",
       "  'price': '40',\n",
       "  'quantity': '40',\n",
       "  'discount': '3',\n",
       "  'expiry-date': '10-09-2021'},\n",
       " '106': {'name': 'pizza',\n",
       "  'price': '100',\n",
       "  'quantity': '33',\n",
       "  'discount': '4',\n",
       "  'expiry-date': '1day'},\n",
       " '107': {'name': 'sweets',\n",
       "  'price': '250',\n",
       "  'quantity': '34',\n",
       "  'discount': '10',\n",
       "  'expiry-date': '12-04-2021'},\n",
       " '108': {'name': 'cookies',\n",
       "  'price': '100',\n",
       "  'quantity': '45',\n",
       "  'discount': '5',\n",
       "  'expiry-date': '10-08-2021'},\n",
       " '109': {'name': 'bread',\n",
       "  'price': '22',\n",
       "  'quantity': '30',\n",
       "  'discount': '4',\n",
       "  'expiry-date': '13-10-2023'},\n",
       " '110': {'name': 'veg puff',\n",
       "  'price': '25',\n",
       "  'quantity': '30',\n",
       "  'discount': '2',\n",
       "  'expiry-date': '12-02-2021'},\n",
       " '111': {'name': 'egg puff',\n",
       "  'price': '30',\n",
       "  'quantity': '30',\n",
       "  'discount': '10',\n",
       "  'expiry-date': '18-04-2021'},\n",
       " '112': {'name': 'ice-cream',\n",
       "  'price': '120',\n",
       "  'quantity': '45',\n",
       "  'discount': '15',\n",
       "  'expiry-date': '30-05-2021'},\n",
       " '113': {'name': 'chips',\n",
       "  'price': '20',\n",
       "  'quantity': '56',\n",
       "  'discount': '0',\n",
       "  'expiry-date': '12-04-2021'},\n",
       " '114': {'name': 'pastry',\n",
       "  'price': '45',\n",
       "  'quantity': '45',\n",
       "  'discount': '10',\n",
       "  'expiry-date': '10-05-2021'},\n",
       " '115': {'name': 'cupcakes',\n",
       "  'price': '30',\n",
       "  'quantity': '20',\n",
       "  'discount': '2',\n",
       "  'expiry-date': '15-08-2021'},\n",
       " '116': {'name': 'rusktoast',\n",
       "  'price': '60',\n",
       "  'quantity': '32',\n",
       "  'discount': '3',\n",
       "  'expiry-date': '09-02-2022'},\n",
       " '117': {'name': 'milk',\n",
       "  'price': '25',\n",
       "  'quantity': '30',\n",
       "  'discount': '10',\n",
       "  'expiry-date': '08-09-2021'},\n",
       " '118': {'name': 'papad',\n",
       "  'price': '30',\n",
       "  'quantity': '20',\n",
       "  'discount': '2',\n",
       "  'expiry-date': '10-4-2023'},\n",
       " '119': {'name': 'honey',\n",
       "  'price': '75',\n",
       "  'quantity': '40',\n",
       "  'discount': '10',\n",
       "  'expiry-date': '16-09-2023'},\n",
       " '120': {'name': 'paneer',\n",
       "  'price': '79',\n",
       "  'quantity': 40,\n",
       "  'discount': '4',\n",
       "  'expiry-date': '09-05-2021'},\n",
       " '121': {'name': 'dry-fruits',\n",
       "  'price': '250',\n",
       "  'quantity': 50,\n",
       "  'discount': '5',\n",
       "  'expiry-date': '08-10-2023'},\n",
       " '122': {'name': 'cheese',\n",
       "  'price': '78',\n",
       "  'quantity': '32',\n",
       "  'discount': '2',\n",
       "  'expiry-date': '14-06-2021'},\n",
       " '123': {'name': 'sandwich',\n",
       "  'price': '48',\n",
       "  'quantity': '30',\n",
       "  'discount': '2',\n",
       "  'expiry-date': '08-05-2021'},\n",
       " '124': {'name': 'maggi',\n",
       "  'price': '30',\n",
       "  'quantity': '30',\n",
       "  'discount': '3',\n",
       "  'expiry-date': '10-04-2022'},\n",
       " '125': {'name': 'spices',\n",
       "  'price': '89',\n",
       "  'quantity': '45',\n",
       "  'discount': '14',\n",
       "  'expiry-date': '15-06-2023'},\n",
       " '126': {'name': 'oil',\n",
       "  'price': '130',\n",
       "  'quantity': '67',\n",
       "  'discount': '10',\n",
       "  'expiry-date': '20-07-2023'},\n",
       " '127': {'name': 'salt',\n",
       "  'price': '15',\n",
       "  'quantity': '55',\n",
       "  'discount': '2',\n",
       "  'expiry-date': '25-06-2022'},\n",
       " '128': {'name': 'coffee',\n",
       "  'price': '45',\n",
       "  'quantity': '25',\n",
       "  'discount': '2',\n",
       "  'expiry-date': '02-05-2021'},\n",
       " '129': {'name': 'popcorn',\n",
       "  'price': '56',\n",
       "  'quantity': '30',\n",
       "  'discount': '6',\n",
       "  'expiry-date': '09-02-2021'},\n",
       " '130': {'name': 'soya-sauce',\n",
       "  'price': '50',\n",
       "  'quantity': '30',\n",
       "  'discount': '5',\n",
       "  'expiry-date': '19-06-2022'},\n",
       " '131': {'name': 'soaps',\n",
       "  'price': 60,\n",
       "  'quantity': 3,\n",
       "  'discount': 3,\n",
       "  'expiry_date': 9072024},\n",
       " '132': {'name': 'glucose',\n",
       "  'price': 40,\n",
       "  'quantity': 3,\n",
       "  'discount': 4,\n",
       "  'expiry_date': 6042024},\n",
       " '133': {'name': 'makeup kit',\n",
       "  'price': 1000,\n",
       "  'quantity': 1,\n",
       "  'discount': 10,\n",
       "  'expiry_date': 6072025},\n",
       " '134': {'name': 'peanuts',\n",
       "  'price': 260,\n",
       "  'quantity': 2,\n",
       "  'discount': 5,\n",
       "  'expiry_date': 6032022},\n",
       " '135': {'name': 'tablets',\n",
       "  'price': 40,\n",
       "  'quantity': 4,\n",
       "  'discount': 2,\n",
       "  'expiry_date': 8072022}}"
      ]
     },
     "execution_count": 48,
     "metadata": {},
     "output_type": "execute_result"
    }
   ],
   "source": [
    "items "
   ]
  },
  {
   "cell_type": "markdown",
   "id": "be462202",
   "metadata": {},
   "source": [
    "update inventory after purchase"
   ]
  },
  {
   "cell_type": "code",
   "execution_count": 49,
   "id": "777f8980",
   "metadata": {},
   "outputs": [],
   "source": [
    "js=json.dumps\n",
    "fd=open(\"items.json\",'w')\n",
    "fd.write(js)\n",
    "fd.close()"
   ]
  },
  {
   "cell_type": "markdown",
   "id": "776528c8",
   "metadata": {},
   "source": [
    "sales json"
   ]
  },
  {
   "cell_type": "code",
   "execution_count": 72,
   "id": "a9a82c23",
   "metadata": {},
   "outputs": [],
   "source": [
    "sales={1: {'prod':ui_prod,'quantity':ui_quant,'billing Amount':final_Amount*ui_quant},\n",
    "       2: {'prod':ui_prod,'quantity':ui_quant,'billing Amount':final_Amount*ui_quant},\n",
    "       3: {'prod':ui_prod,'quantity':ui_quant,'billing Amount':final_Amount*ui_quant}}\n",
    "\n",
    "\n"
   ]
  },
  {
   "cell_type": "code",
   "execution_count": 73,
   "id": "59feb994",
   "metadata": {},
   "outputs": [
    {
     "data": {
      "text/plain": [
       "'{\"1\": {\"prod\": \"121\", \"quantity\": 4, \"billing Amount\": 950.0}, \"2\": {\"prod\": \"121\", \"quantity\": 4, \"billing Amount\": 950.0}, \"3\": {\"prod\": \"121\", \"quantity\": 4, \"billing Amount\": 950.0}}'"
      ]
     },
     "execution_count": 73,
     "metadata": {},
     "output_type": "execute_result"
    }
   ],
   "source": [
    "json.dumps(sales)"
   ]
  },
  {
   "cell_type": "code",
   "execution_count": 108,
   "id": "d72040b8",
   "metadata": {},
   "outputs": [],
   "source": [
    "fd=open(\"items.json\",'r')\n",
    "r=fd.read()\n",
    "fd.close()"
   ]
  },
  {
   "cell_type": "code",
   "execution_count": 109,
   "id": "294481f7",
   "metadata": {},
   "outputs": [
    {
     "data": {
      "text/plain": [
       "{10: {'prod': '106', 'quantity': 7, 'billing Amount': 672.0}}"
      ]
     },
     "execution_count": 109,
     "metadata": {},
     "output_type": "execute_result"
    }
   ],
   "source": [
    "{(len(sales)+1):{'prod':ui_prod,'quantity':ui_quant,'billing Amount':final_Amount*ui_quant}}"
   ]
  },
  {
   "cell_type": "code",
   "execution_count": 110,
   "id": "86e8dd3b",
   "metadata": {},
   "outputs": [],
   "source": [
    "sales[(len(sales)+1)]={'prod':ui_prod,'quantity':ui_quant,'billing Amount':final_Amount*ui_quant}"
   ]
  },
  {
   "cell_type": "code",
   "execution_count": 111,
   "id": "e984b8c7",
   "metadata": {},
   "outputs": [
    {
     "data": {
      "text/plain": [
       "{1: {'prod': '121', 'quantity': 4, 'billing Amount': 950.0},\n",
       " 2: {'prod': '121', 'quantity': 4, 'billing Amount': 950.0},\n",
       " 3: {'prod': '121', 'quantity': 4, 'billing Amount': 950.0},\n",
       " 4: {'prod': '121', 'quantity': 4, 'billing Amount': 950.0},\n",
       " 5: {'prod': '101', 'quantity': 10, 'billing Amount': 432.0},\n",
       " 6: {'prod': '102', 'quantity': 15, 'billing Amount': 150.0},\n",
       " 7: {'prod': '103', 'quantity': 7, 'billing Amount': 1890.0},\n",
       " 8: {'prod': '104', 'quantity': 20, 'billing Amount': 980.0},\n",
       " 9: {'prod': '105', 'quantity': 10, 'billing Amount': 388.0},\n",
       " 10: {'prod': '106', 'quantity': 7, 'billing Amount': 672.0}}"
      ]
     },
     "execution_count": 111,
     "metadata": {},
     "output_type": "execute_result"
    }
   ],
   "source": [
    "sales"
   ]
  },
  {
   "cell_type": "code",
   "execution_count": 112,
   "id": "6d35e4b6",
   "metadata": {},
   "outputs": [],
   "source": [
    "sale=json.dumps(sales)"
   ]
  },
  {
   "cell_type": "code",
   "execution_count": 113,
   "id": "afb36c11",
   "metadata": {},
   "outputs": [
    {
     "data": {
      "text/plain": [
       "{1: {'prod': '121', 'quantity': 4, 'billing Amount': 950.0},\n",
       " 2: {'prod': '121', 'quantity': 4, 'billing Amount': 950.0},\n",
       " 3: {'prod': '121', 'quantity': 4, 'billing Amount': 950.0},\n",
       " 4: {'prod': '121', 'quantity': 4, 'billing Amount': 950.0},\n",
       " 5: {'prod': '101', 'quantity': 10, 'billing Amount': 432.0},\n",
       " 6: {'prod': '102', 'quantity': 15, 'billing Amount': 150.0},\n",
       " 7: {'prod': '103', 'quantity': 7, 'billing Amount': 1890.0},\n",
       " 8: {'prod': '104', 'quantity': 20, 'billing Amount': 980.0},\n",
       " 9: {'prod': '105', 'quantity': 10, 'billing Amount': 388.0},\n",
       " 10: {'prod': '106', 'quantity': 7, 'billing Amount': 672.0}}"
      ]
     },
     "execution_count": 113,
     "metadata": {},
     "output_type": "execute_result"
    }
   ],
   "source": [
    "sales"
   ]
  },
  {
   "cell_type": "code",
   "execution_count": 114,
   "id": "c8991de5",
   "metadata": {},
   "outputs": [],
   "source": [
    "fd=open(\"sales.json\",'w')\n",
    "r=fd.write(sale)\n",
    "fd.close()"
   ]
  },
  {
   "cell_type": "code",
   "execution_count": null,
   "id": "da8d00e2",
   "metadata": {},
   "outputs": [],
   "source": []
  }
 ],
 "metadata": {
  "kernelspec": {
   "display_name": "Python 3",
   "language": "python",
   "name": "python3"
  },
  "language_info": {
   "codemirror_mode": {
    "name": "ipython",
    "version": 3
   },
   "file_extension": ".py",
   "mimetype": "text/x-python",
   "name": "python",
   "nbconvert_exporter": "python",
   "pygments_lexer": "ipython3",
   "version": "3.8.8"
  }
 },
 "nbformat": 4,
 "nbformat_minor": 5
}
